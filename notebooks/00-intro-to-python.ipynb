{
 "cells": [
  {
   "cell_type": "markdown",
   "id": "332e5e0c-7c69-43a0-b8d8-f4b4b556e97c",
   "metadata": {},
   "source": [
    "[![Open In Colab](https://colab.research.google.com/assets/colab-badge.svg)](https://colab.research.google.com/github/baggiponte/makemore/blob/main/notebooks/00-intro-to-python.ipynb)\n"
   ]
  },
  {
   "cell_type": "markdown",
   "id": "18703727-808e-4f83-b06c-812974c0738b",
   "metadata": {},
   "source": [
    "# Introduction to Python"
   ]
  },
  {
   "cell_type": "markdown",
   "id": "71ecd89f-430d-418e-b955-63c3a5cdaefb",
   "metadata": {},
   "source": [
    "## Numbers and functions"
   ]
  },
  {
   "cell_type": "markdown",
   "id": "4233d798-6219-4550-b491-2879ca1dc285",
   "metadata": {},
   "source": [
    "Everything in Python is an *object*. Objects have a *type*. For example, integer numbers like 1, 2... are `int`s. Decimal numbers are `float`s.\n",
    "\n",
    "We can first use Python as a calculator:"
   ]
  },
  {
   "cell_type": "code",
   "execution_count": null,
   "id": "55999236-3cb6-4a46-beaa-b58cc76e166d",
   "metadata": {},
   "outputs": [],
   "source": [
    "1 + 2"
   ]
  },
  {
   "cell_type": "code",
   "execution_count": null,
   "id": "94418545-a88a-411c-992b-0630e8f31dee",
   "metadata": {},
   "outputs": [],
   "source": [
    "2 * 3"
   ]
  },
  {
   "cell_type": "code",
   "execution_count": null,
   "id": "87430b17-0a6e-43e2-9495-74ffcbd1caea",
   "metadata": {},
   "outputs": [],
   "source": [
    "2 ** 3"
   ]
  },
  {
   "cell_type": "code",
   "execution_count": null,
   "id": "d69f82f7-36d1-43cc-9212-583496e85e8b",
   "metadata": {},
   "outputs": [],
   "source": [
    "8 / 2"
   ]
  },
  {
   "cell_type": "markdown",
   "id": "9f4634d7-bc87-41fb-a9f5-9309650cf5e9",
   "metadata": {},
   "source": [
    "What happened when we divided 8 by 2? We obtained a decimal number - a `float`. This happens because the `/` operation can return decimal number - but Python does not know beforehand, so it returns a float anyway. For example:"
   ]
  },
  {
   "cell_type": "code",
   "execution_count": null,
   "id": "e5a94c7a-c1a6-471c-90b7-ae527771a50d",
   "metadata": {},
   "outputs": [],
   "source": [
    "9 / 2"
   ]
  },
  {
   "cell_type": "markdown",
   "id": "533cde42-5988-4a48-8139-ebc572c16a0c",
   "metadata": {},
   "source": [
    "How do we inspect the type of an object? It's fairly simple, with the `type` function:"
   ]
  },
  {
   "cell_type": "code",
   "execution_count": null,
   "id": "4a4929b8-a6e6-47fc-9737-c67b82a272f5",
   "metadata": {},
   "outputs": [],
   "source": [
    "type(4)"
   ]
  },
  {
   "cell_type": "code",
   "execution_count": null,
   "id": "75f28f3c-1b89-4b0b-82fe-870333dc9511",
   "metadata": {},
   "outputs": [],
   "source": [
    "type(4.5)"
   ]
  },
  {
   "attachments": {},
   "cell_type": "markdown",
   "id": "1cf53090-ac01-423d-805d-ce968fb08a69",
   "metadata": {},
   "source": [
    "Much like in mathematics, a function is an \"operation\" that takes in some inputs and return outputs. `+`, `*`, `**` and `/` are take in two numbers as inputs and return a single number as output.\n",
    "\n",
    "We can store objects as well as the result of a function into *variables*. It's fairly easy: with the `=` operator, we *assign* an object or a result into a variable:"
   ]
  },
  {
   "cell_type": "code",
   "execution_count": null,
   "id": "967d2b7f-c203-4438-ad88-3f841970a339",
   "metadata": {},
   "outputs": [],
   "source": [
    "base = 10\n",
    "height = 5\n",
    "\n",
    "area = 10 * 5"
   ]
  },
  {
   "cell_type": "markdown",
   "id": "3f14632a-d2ff-4662-a3d3-83a91a5e5152",
   "metadata": {},
   "source": [
    "Or even better:"
   ]
  },
  {
   "cell_type": "code",
   "execution_count": null,
   "id": "a5198b63-8428-4b48-a548-65080fb0ad4b",
   "metadata": {},
   "outputs": [],
   "source": [
    "area = base * height"
   ]
  },
  {
   "cell_type": "markdown",
   "id": "cb54a68a-eb79-484b-868e-ef9a5b0d8a11",
   "metadata": {},
   "source": [
    "We can inspect the contents of a variable with the function `print`:"
   ]
  },
  {
   "cell_type": "code",
   "execution_count": null,
   "id": "0ce83d3e-a7c0-4cd4-9940-ff57f81afa62",
   "metadata": {},
   "outputs": [],
   "source": [
    "print(area)"
   ]
  },
  {
   "cell_type": "markdown",
   "id": "b947579f-9351-4bc8-b390-100ab730df16",
   "metadata": {},
   "source": [
    "We can also define our custom functions:"
   ]
  },
  {
   "cell_type": "code",
   "execution_count": null,
   "id": "ddd10476-0f2e-4160-8f6f-1b6f175af3bf",
   "metadata": {},
   "outputs": [],
   "source": [
    "def compute_area(base, height):\n",
    "    return base * height\n",
    "\n",
    "area = compute_area(base, height)\n",
    "\n",
    "print(area)"
   ]
  },
  {
   "cell_type": "markdown",
   "id": "bb9f0984-ccac-46b3-b831-37f0201383a4",
   "metadata": {},
   "source": [
    "This seems a bit more complex, but is fairly easy to understand:\n",
    "\n",
    "* `def` is a special word (called `keyword`) that is used to define a function.\n",
    "* `return` is another keyword that is used to say \"what comes after is the output of this function\". If `return` is missing, the function will not have any result!\n",
    "\n",
    "Why do we write functions and variables? We do so because it helps us do two crucial things:\n",
    "\n",
    "* Assign *meanings* to operations: in this context, we know that 3 and 4 are the base and the height, respectively, and the operation `base * height` is actually \"computing the area\".\n",
    "* To have reusable pieces of code: imageine having to rewrite everytime the value of pi!"
   ]
  },
  {
   "cell_type": "markdown",
   "id": "08115eb7-d0b8-4b1f-a277-2e0e8fb346dd",
   "metadata": {},
   "source": [
    "## Beyond numbers"
   ]
  },
  {
   "cell_type": "markdown",
   "id": "4dc8b142-4422-42bf-9918-09d70d227214",
   "metadata": {},
   "source": [
    "Numbers are not the only types in Python: to represent text, we use strings (or `str`):"
   ]
  },
  {
   "cell_type": "code",
   "execution_count": null,
   "id": "2e900e23-503e-4168-baf0-6f9f6cd0ce29",
   "metadata": {},
   "outputs": [],
   "source": [
    "type(\"I am a string\")"
   ]
  },
  {
   "cell_type": "markdown",
   "id": "db6e8d77-3456-4d8c-908f-331615d39342",
   "metadata": {},
   "source": [
    "We can also add together strings:"
   ]
  },
  {
   "cell_type": "code",
   "execution_count": null,
   "id": "ded85c39-a9ea-49f9-bd9d-ae4e4997beb0",
   "metadata": {},
   "outputs": [],
   "source": [
    "\"Hello! \" + \"I am a string\"\n",
    "\n",
    "# 👀 Hey! I am a comment. Every line that starts with '#' is a comment,\n",
    "# and is not considered to be code. I am used to explain what happens\n",
    "# in the code, when the names of functions and variables are not self-evident.\n",
    "\n",
    "# Functions are not guaranteed to work with inputs of different types.\n",
    "# If you uncomment the following line and try to run this cell, you will incur in an error:\n",
    "# \"Hello \" / \"I am a string\""
   ]
  },
  {
   "cell_type": "markdown",
   "id": "75a0c34d-4659-4a50-a03c-fe4dccbe492b",
   "metadata": {},
   "source": [
    "How is this useful? Think, for example, a function to print a greeting:"
   ]
  },
  {
   "cell_type": "code",
   "execution_count": null,
   "id": "880716b6-1a73-46ad-bd63-9d9081c11a66",
   "metadata": {},
   "outputs": [],
   "source": [
    "def say_hello(name):\n",
    "    return \"Hello \" + name + \"!\"\n",
    "\n",
    "say_hello(\"Luca\")"
   ]
  },
  {
   "cell_type": "markdown",
   "id": "ec99a9ca-57f6-412c-8d6f-842a302e7393",
   "metadata": {},
   "source": [
    "What's the point of having different types? Basically, they allow you to create functions that only work for them - or, for example, to use the same functions with objects of different types.\n",
    "\n",
    "For example: objects carry special functions with them, called \"methods\". Here is one:"
   ]
  },
  {
   "cell_type": "code",
   "execution_count": null,
   "id": "173d8d42-4cf4-49f7-864d-1817d2e57d10",
   "metadata": {},
   "outputs": [],
   "source": [
    "def say_hello_but_loud(name):\n",
    "    greeting = \"Hello \" + name + \"!\"\n",
    "    return greeting.upper()\n",
    "\n",
    "say_hello_but_loud(\"Luca\")"
   ]
  },
  {
   "cell_type": "markdown",
   "id": "f595c421-5740-40af-91a7-0caa0a72984e",
   "metadata": {},
   "source": [
    "There is much more to strings, and we cannot cover it all here. Just keep in mind that objects will always have their \"special\" operations and that you can access them with `.name` (this is called *dot notation*)."
   ]
  },
  {
   "cell_type": "markdown",
   "id": "16da3af8-0cc3-424f-8538-810076114978",
   "metadata": {},
   "source": [
    "## Containers"
   ]
  },
  {
   "cell_type": "markdown",
   "id": "9e9195f8-5765-490b-9948-43a754a4c3e4",
   "metadata": {},
   "source": [
    "So far, we just talked about \"individual\" values: a string, a number. We can create lists of objects (of any type!) by surrounding them with `[]`:"
   ]
  },
  {
   "cell_type": "code",
   "execution_count": null,
   "id": "20a06589-d6ef-4b85-a8e1-feac1be4dbe8",
   "metadata": {},
   "outputs": [],
   "source": [
    "list_of_numbers = [1, 2, 3, 4, 5]\n",
    "print(list_of_numbers)\n",
    "\n",
    "list_of_letters = [\"a\", \"b\", \"c\", \"d\"]\n",
    "print(list_of_letters)"
   ]
  },
  {
   "cell_type": "markdown",
   "id": "58c32643-283f-4819-b256-6385a65f5465",
   "metadata": {},
   "source": [
    "Lists are cool! But how do we work with them? We can access elements in a list using `[]`:"
   ]
  },
  {
   "cell_type": "code",
   "execution_count": null,
   "id": "6d0411cb-48b9-4ca2-b23e-10281b046219",
   "metadata": {},
   "outputs": [],
   "source": [
    "list_of_letters[0]"
   ]
  },
  {
   "cell_type": "markdown",
   "id": "9b93eec2-99ff-42b5-b964-a0e87beee23d",
   "metadata": {},
   "source": [
    "In the cell above, we extracted the first element of a list. But we can also do more, like extracting a subsequence of numbers (or a `slice`):"
   ]
  },
  {
   "cell_type": "code",
   "execution_count": null,
   "id": "fa65c5a9-2126-4544-b453-2d5f83ccdab4",
   "metadata": {},
   "outputs": [],
   "source": [
    "list_of_numbers[1:3]"
   ]
  },
  {
   "cell_type": "markdown",
   "id": "14260ff7-77fd-4909-ab52-833f015de77e",
   "metadata": {},
   "source": [
    "One nice thing about lists is that we can add elements to them - we just need to call `.append(<new_element>)`:"
   ]
  },
  {
   "cell_type": "code",
   "execution_count": null,
   "id": "8b7f18b3-604a-47df-bc47-1a95ca87ad0f",
   "metadata": {},
   "outputs": [],
   "source": [
    "list_of_numbers.append(6)\n",
    "\n",
    "print(list_of_numbers)"
   ]
  },
  {
   "cell_type": "markdown",
   "id": "9a261bd3-9083-479c-80a8-3ecd6f0a6998",
   "metadata": {},
   "source": [
    "## Strings as sequences of characters"
   ]
  },
  {
   "cell_type": "markdown",
   "id": "741675c3-fd61-4493-83c1-f411037e0e1e",
   "metadata": {},
   "source": [
    "Fun fact: strings are basically list of characters, so we can use `[]` with lists too:"
   ]
  },
  {
   "cell_type": "code",
   "execution_count": null,
   "id": "daa519a0-7802-4ad9-a8e7-516339e5ea3f",
   "metadata": {},
   "outputs": [],
   "source": [
    "string_object = \"Hello! I am a string\"\n",
    "\n",
    "print(string_object[:6], string_object[-6:])"
   ]
  },
  {
   "cell_type": "markdown",
   "id": "5baf1263-6ee6-48d2-851d-5a8095e0872b",
   "metadata": {},
   "source": [
    "## One last thing"
   ]
  },
  {
   "cell_type": "markdown",
   "id": "34ff193d-7eac-4b53-a180-a898cd46f761",
   "metadata": {},
   "source": [
    "Sometimes, we want to perform the same operation on multiple elements. For example:"
   ]
  },
  {
   "cell_type": "code",
   "execution_count": null,
   "id": "f2acf0c2-4365-48a9-a986-05582db4ea05",
   "metadata": {},
   "outputs": [],
   "source": [
    "print(\"Hello \" + \"Luca\")\n",
    "print(\"Hello \" + \"Paolo\")\n",
    "print(\"Hello \" + \"Francesca\")\n",
    "print(\"Hello \" + \"Beatrice\")"
   ]
  },
  {
   "cell_type": "markdown",
   "id": "b1a2012e-9cea-4743-a338-53cf6945a99b",
   "metadata": {},
   "source": [
    "When there are only 4 elements, it might be faster to write everything out by hand. What if, though, there were 1000? Here is where `for` loops come to the rescue:"
   ]
  },
  {
   "cell_type": "code",
   "execution_count": null,
   "id": "d7e45c6f-d665-40c0-9895-2cc5afc9b7b0",
   "metadata": {},
   "outputs": [],
   "source": [
    "friends = [\"Luca\", \"Paolo\", \"Francesca\", \"Beatrice\"]\n",
    "\n",
    "for friend in friends:\n",
    "    print(\"Hello \" + friend + \"!\")"
   ]
  },
  {
   "cell_type": "markdown",
   "id": "2816ed71-33c3-4a0c-9587-7cd1143aac73",
   "metadata": {},
   "source": [
    "Inside the *body* of the for loop, we can do more interesting things - like the ones we are going to see next!"
   ]
  }
 ],
 "metadata": {
  "kernelspec": {
   "display_name": "Python 3 (ipykernel)",
   "language": "python",
   "name": "python3"
  },
  "language_info": {
   "codemirror_mode": {
    "name": "ipython",
    "version": 3
   },
   "file_extension": ".py",
   "mimetype": "text/x-python",
   "name": "python",
   "nbconvert_exporter": "python",
   "pygments_lexer": "ipython3",
   "version": "3.10.13"
  }
 },
 "nbformat": 4,
 "nbformat_minor": 5
}
