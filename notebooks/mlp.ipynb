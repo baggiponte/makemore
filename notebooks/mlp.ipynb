{
 "cells": [
  {
   "cell_type": "code",
   "execution_count": null,
   "id": "3857e993-771b-4d30-9acc-238eb74627d9",
   "metadata": {},
   "outputs": [],
   "source": [
    "try:\n",
    "    from makemore.datasets import fetch_names\n",
    "except ModuleNotFoundError:\n",
    "    !pip install makemore\n",
    "    from makemore.datasets import fetch_names\n",
    "\n",
    "names = fetch_names(shuffle=True, seed=42)"
   ]
  },
  {
   "cell_type": "code",
   "execution_count": null,
   "id": "91949673-69be-4149-be28-96fdbe62c17e",
   "metadata": {},
   "outputs": [],
   "source": [
    "context, labels = names.get_ngrams(3, as_tensor=True)"
   ]
  },
  {
   "cell_type": "code",
   "execution_count": null,
   "id": "8afb4bab-dd67-464d-8dfa-f8cbe80cd57f",
   "metadata": {},
   "outputs": [],
   "source": []
  }
 ],
 "metadata": {
  "kernelspec": {
   "display_name": "Python 3 (ipykernel)",
   "language": "python",
   "name": "python3"
  },
  "language_info": {
   "codemirror_mode": {
    "name": "ipython",
    "version": 3
   },
   "file_extension": ".py",
   "mimetype": "text/x-python",
   "name": "python",
   "nbconvert_exporter": "python",
   "pygments_lexer": "ipython3",
   "version": "3.10.13"
  }
 },
 "nbformat": 4,
 "nbformat_minor": 5
}
