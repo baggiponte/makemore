{
 "cells": [
  {
   "cell_type": "markdown",
   "id": "f9523bbd-37f7-4703-9023-2a6559f4a172",
   "metadata": {},
   "source": [
    "[![Open In Colab](https://colab.research.google.com/assets/colab-badge.svg)](https://colab.research.google.com/github/baggiponte/makemore/blob/main/notebooks/01-data-processing.ipynb)\n"
   ]
  },
  {
   "cell_type": "markdown",
   "id": "d0d48b79-4050-4aa2-b354-29a37649b621",
   "metadata": {},
   "source": [
    "# Making a computer understand words"
   ]
  },
  {
   "cell_type": "markdown",
   "id": "b7ff409e-451b-405d-a5b9-2818c38c9982",
   "metadata": {},
   "source": [
    "To make a neural network learn language, we need to perform two transformations:\n",
    "\n",
    "1. Represent words as numbers: computer do not understand strings, and we need to transform them into numbers so that we can perform operations on them.\n",
    "2. Find a way to represent the *meaning* of a word as a number: for example, a `seal` can either be something that keeps something else closed, but also a very cute animal:\n",
    "\n",
    "![seal](https://external-content.duckduckgo.com/iu/?u=https%3A%2F%2Fwww.nrcm.org%2Fwp-content%2Fuploads%2F2019%2F04%2FSeals-taken-from-Kayak-on-Taunton-Bay-in-Hancock-4.jpg&f=1&nofb=1&ipt=16b91e07919db7caec5c308599acaae538cc4c4305133456ca3f1e581ea1cc1f&ipo=images)\n",
    "\n",
    "Here, we will do the first part. It turns out, we can leave the second one to the computer itself!"
   ]
  },
  {
   "cell_type": "markdown",
   "id": "a769fc26-70c1-470c-818f-f615319584e5",
   "metadata": {},
   "source": [
    "# Our data"
   ]
  },
  {
   "cell_type": "code",
   "execution_count": null,
   "id": "1bcc65fd-82bc-417d-8b49-a4dbc3065032",
   "metadata": {},
   "outputs": [],
   "source": [
    "try:\n",
    "    from makemore.datasets import fetch_names\n",
    "except ModuleNotFoundError:\n",
    "    !pip install --quiet -- makemore\n",
    "    from makemore.datasets import fetch_names\n",
    "\n",
    "names = fetch_names(shuffle=True, seed=42)"
   ]
  },
  {
   "cell_type": "markdown",
   "id": "f569d07b-cf6a-400d-ade5-0ff0e8eece13",
   "metadata": {},
   "source": [
    "`names` is a special object that I created, called `NamesDataset`."
   ]
  },
  {
   "cell_type": "code",
   "execution_count": null,
   "id": "7d49ec49-536e-4ad8-b956-3f5f30086c19",
   "metadata": {},
   "outputs": [],
   "source": [
    "type(names)"
   ]
  },
  {
   "cell_type": "markdown",
   "id": "270d10ef-4499-4aa1-9db0-405c7fc4b785",
   "metadata": {},
   "source": [
    "Since I created the object, I added some special behaviour. For example, when we print it it we get this:"
   ]
  },
  {
   "cell_type": "code",
   "execution_count": null,
   "id": "42d23ca7-37c5-4a17-a118-fcefdc78df1a",
   "metadata": {},
   "outputs": [],
   "source": [
    "print(names)"
   ]
  },
  {
   "attachments": {},
   "cell_type": "markdown",
   "id": "617bf507-b1f5-454a-ba09-f163d4c889ce",
   "metadata": {},
   "source": [
    "It's nice to see that our dataset contains almost 30_000 names. But, under the hood, this is a glorified `list`, so don't worry: we can still use the `[]` to access its elements."
   ]
  },
  {
   "cell_type": "code",
   "execution_count": null,
   "id": "2468f6bb-360f-4f8f-bcdf-7b48a3ccd9e4",
   "metadata": {},
   "outputs": [],
   "source": [
    "first_name = names[0]\n",
    "\n",
    "print(first_name)"
   ]
  },
  {
   "cell_type": "markdown",
   "id": "4673bd73-9b15-456c-bb16-7fef12c1039b",
   "metadata": {},
   "source": [
    "# Now's your turn"
   ]
  },
  {
   "attachments": {},
   "cell_type": "markdown",
   "id": "be9e705e-f593-43bd-94c7-2f093919c722",
   "metadata": {},
   "source": [
    "To make these names understandable by a deep neural network, we can simply replace every letter with its number on the alphabet. For example, `ada` becomes `[1, 4, 1]` and `emma` `[5, 13, 13, 5]`. Step by step, you will apply what you saw in the first notebook to solve this data processing task!\n",
    "\n",
    "To make things easier, inside `makemore` we can find some utilities, like `character_to_int`:"
   ]
  },
  {
   "cell_type": "code",
   "execution_count": null,
   "id": "fc6ac805-01d1-44a4-ad5e-15033b02cf5e",
   "metadata": {},
   "outputs": [],
   "source": [
    "from makemore.utils import character_to_int\n",
    "\n",
    "character_to_int(\"a\")"
   ]
  },
  {
   "cell_type": "markdown",
   "id": "bd8fa4a2-5c24-4852-aa2f-ddc61a32f7de",
   "metadata": {},
   "source": [
    "1. Map every character in `'dannika'` to its position in the (English) alphabet, like this:\n",
    "\n",
    "```python\n",
    "character_to_int(\"d\")\n",
    "character_to_int(\"a\")\n",
    "```\n",
    "\n",
    "And so on:"
   ]
  },
  {
   "cell_type": "code",
   "execution_count": null,
   "id": "ebcdb266-4772-4fed-829c-203579002219",
   "metadata": {},
   "outputs": [],
   "source": []
  },
  {
   "cell_type": "markdown",
   "id": "b4a7e919-a49c-4d2d-9589-61937ee4519d",
   "metadata": {},
   "source": [
    "2. What happens if we call `character_to_int` on an element of a name? Recall that every string is a sequence of characters, and that you can get the $i$th element by using the `[]` operator, like this:\n",
    "\n",
    "```python\n",
    "first_name[0]\n",
    "```"
   ]
  },
  {
   "cell_type": "code",
   "execution_count": null,
   "id": "be1f6eaa-0198-4ffe-9a3e-d253a731a7e3",
   "metadata": {},
   "outputs": [],
   "source": []
  },
  {
   "cell_type": "markdown",
   "id": "f4adda4b-fa33-4112-b104-dae23b549a70",
   "metadata": {},
   "source": [
    "Doing this by hand is pretty tedious. Since we are running the same operation over and over, maybe we can use a `for` loop.\n",
    "\n",
    "3. What happens if you run the following cell?"
   ]
  },
  {
   "cell_type": "code",
   "execution_count": null,
   "id": "f9633740-9373-48e7-9491-77b73b21c752",
   "metadata": {},
   "outputs": [],
   "source": [
    "for letter in first_name:\n",
    "    print(letter)"
   ]
  },
  {
   "cell_type": "markdown",
   "id": "79f0dde3-a2b8-4f96-b500-8a77fb51e505",
   "metadata": {},
   "source": [
    "4. Maybe you can find a way to combine this with the `character_to_int` function and this for loop to the exercise 1 faster..."
   ]
  },
  {
   "cell_type": "code",
   "execution_count": null,
   "id": "100640b7-ec41-4752-815f-af9456838123",
   "metadata": {},
   "outputs": [],
   "source": []
  },
  {
   "cell_type": "markdown",
   "id": "fef8c916-cf17-4d9c-a848-857992b23f16",
   "metadata": {},
   "source": [
    "5. Now we can print all numbers that correspond to a letter, but we need to store them inside a suitable container, like a `lsit`. Write some code that will allow you to append every integer to a list at the end of a for loop. Recall you can create an empty list with `numbers = []` and call `numbers.append(...)` to append an element."
   ]
  },
  {
   "cell_type": "code",
   "execution_count": null,
   "id": "4f1f8711-a1e9-4f62-bb3b-8e699b520f32",
   "metadata": {},
   "outputs": [],
   "source": []
  },
  {
   "cell_type": "markdown",
   "id": "2ec14808-4e92-48fa-b61a-4ade3e04e830",
   "metadata": {},
   "source": [
    "Congratulations! The easy part is over. Now you can transform a string into a list of integers. For example, `anna` becomes `[1, 14, 14, 1]`\n",
    "\n",
    "To train the neural network, we need to feed it the inputs in this way:\n",
    "\n",
    "```\n",
    "# \"anna\" -> \n",
    "[1, 14, 14] [1]\n",
    "\n",
    "# \"maria\" -> [13, 1, 18, 9, 1]\n",
    "[13, 1, 18] [9]\n",
    "[1, 18, 9] [1]\n",
    "```\n",
    "\n",
    "You will need to use a for loop. A hint: you can use the function `len` to obtain the length of an item and `range(x)` to generate a sequence of numbers from 0 to `x`:"
   ]
  },
  {
   "cell_type": "code",
   "execution_count": null,
   "id": "a02e7229-2a26-4988-b16a-4b6cdc532dc7",
   "metadata": {},
   "outputs": [],
   "source": [
    "name = \"maria\"\n",
    "\n",
    "print(len(name))\n",
    "\n",
    "for i in range(len(name)):\n",
    "    print(i)"
   ]
  },
  {
   "cell_type": "code",
   "execution_count": null,
   "id": "bc45c249-e30a-464b-ada5-c57fef890846",
   "metadata": {},
   "outputs": [],
   "source": []
  }
 ],
 "metadata": {
  "kernelspec": {
   "display_name": "Python 3 (ipykernel)",
   "language": "python",
   "name": "python3"
  },
  "language_info": {
   "codemirror_mode": {
    "name": "ipython",
    "version": 3
   },
   "file_extension": ".py",
   "mimetype": "text/x-python",
   "name": "python",
   "nbconvert_exporter": "python",
   "pygments_lexer": "ipython3",
   "version": "3.10.13"
  }
 },
 "nbformat": 4,
 "nbformat_minor": 5
}
